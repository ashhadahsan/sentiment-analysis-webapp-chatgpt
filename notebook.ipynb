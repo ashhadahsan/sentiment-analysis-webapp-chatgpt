{
 "cells": [
  {
   "cell_type": "code",
   "execution_count": 5,
   "metadata": {},
   "outputs": [
    {
     "name": "stdout",
     "output_type": "stream",
     "text": [
      "What is the Universe? has been successfully downloaded.\n"
     ]
    }
   ],
   "source": [
    "# importing packages\n",
    "from pytube import YouTube\n",
    "import os\n",
    "import whisper\n",
    "import subprocess\n",
    "\n",
    "# url input from user\n",
    "yt = YouTube(\n",
    "\tstr(input(\"Enter the URL of the video you want to download: \\n>> \")))\n",
    "\n",
    "# extract only audio\"\n",
    "video = yt.streams.filter(only_audio=True).first()\n",
    "\n",
    "\n",
    "# download the file\n",
    "out_file = video.download(output_path='./data/video/')\n",
    "\n",
    "# result of success\n",
    "print(yt.title + \" has been successfully downloaded.\")\n",
    "\n"
   ]
  },
  {
   "cell_type": "code",
   "execution_count": 17,
   "metadata": {},
   "outputs": [],
   "source": [
    "title=yt.title.replace(\"?\",\"\")"
   ]
  },
  {
   "cell_type": "code",
   "execution_count": 16,
   "metadata": {},
   "outputs": [
    {
     "data": {
      "text/plain": [
       "0"
      ]
     },
     "execution_count": 16,
     "metadata": {},
     "output_type": "execute_result"
    }
   ],
   "source": [
    "\n",
    "command = f'''ffmpeg -i \"data/video/{title}.mp4\" -ab 160k -ac 2 -ar 44100 -vn \"data/audio/{title}.wav\"'''\n",
    "\n",
    "subprocess.call(command, shell=True)\n"
   ]
  },
  {
   "cell_type": "code",
   "execution_count": 4,
   "metadata": {},
   "outputs": [
    {
     "name": "stderr",
     "output_type": "stream",
     "text": [
      "c:\\Users\\Ashhad\\anaconda3\\envs\\p_39\\lib\\site-packages\\whisper\\transcribe.py:79: UserWarning: FP16 is not supported on CPU; using FP32 instead\n",
      "  warnings.warn(\"FP16 is not supported on CPU; using FP32 instead\")\n"
     ]
    },
    {
     "name": "stdout",
     "output_type": "stream",
     "text": [
      " Right now, at this very second, we're in the aftermath of the Big Bang. Everything we see, hear, taste, smell and touch is the aftermath. The Big Bang is really our evolving, expanding universe. For us, mostly stuck on our rocky little planet. The view of the universe begins with Earth. This is Earth, silicon and oxygen based with a metallic core. The surface is mostly water. It teams with life and rotates once every 24 hours while orbiting a star called the Sun every 365 days. This is the Sun, mostly hydrogen and helium. Its surface temperature is nearly 10,000 degrees Fahrenheit. For energy, our Sun converts 700 million tons of hydrogen into 695 million tons of helium every second. The Sun is part of a solar system formed around 4.5 billion years ago that includes Earth and 7 other orbiting planets from Mercury to Neptune. And it isn't a stationary system. Our solar system is spinning, flying through space at 134 miles per second, turning in circles as part of a vast collection of stars and star systems. There may be 200 billion stars in this collection called the Milky Way Galaxy. An estimated 6 billion of those stars with planetary systems like ours. Our solar system orbits the center of the Milky Way on one of its outer arms. The Milky Way is one of more than 125 billion galaxies that make up the visible universe. This is the universe. It's really, really big. And it's getting bigger. It's expanding. If the universe is expanding, then it used to be smaller. Much smaller. In fact, if we went back in time, we could watch it shrink. Back far enough, and the universe would be smaller than a galaxy. Back, and the universe is smaller than our solar system. Farther back, and everything that exists fits inside a stadium, a coffee cup, an atom. 13.7 billion years ago, the universe was smaller than the smallest part of an atom. Unbelievably small. Then, something happened. The flash, everything suddenly expanded. This was how it all began. The first moment of existence. What we now call the Big Bang.\n"
     ]
    }
   ],
   "source": [
    "model = whisper.load_model(\"small\")\n",
    "result = model.transcribe(\"audio.wav\")\n",
    "print(result[\"text\"])"
   ]
  }
 ],
 "metadata": {
  "kernelspec": {
   "display_name": "p_39",
   "language": "python",
   "name": "python3"
  },
  "language_info": {
   "codemirror_mode": {
    "name": "ipython",
    "version": 3
   },
   "file_extension": ".py",
   "mimetype": "text/x-python",
   "name": "python",
   "nbconvert_exporter": "python",
   "pygments_lexer": "ipython3",
   "version": "3.9.16"
  },
  "orig_nbformat": 4,
  "vscode": {
   "interpreter": {
    "hash": "6929bbd28de65bba9889b8a2bbd5b15dc708ba42671c3180c6f55164c294fd16"
   }
  }
 },
 "nbformat": 4,
 "nbformat_minor": 2
}
